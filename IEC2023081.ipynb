{
 "cells": [
  {
   "cell_type": "markdown",
   "id": "2f97d01f-d313-4431-9d27-15df89744dd0",
   "metadata": {},
   "source": [
    "Jupyter Notebook"
   ]
  },
  {
   "cell_type": "code",
   "execution_count": 1,
   "id": "0afe59e3-5f62-465e-b097-0541c37882de",
   "metadata": {},
   "outputs": [
    {
     "name": "stdout",
     "output_type": "stream",
     "text": [
      "Name : Nandini \n"
     ]
    }
   ],
   "source": [
    "print (\"Name : Nandini \");"
   ]
  },
  {
   "cell_type": "code",
   "execution_count": 3,
   "id": "a1f8b14d-e4d6-4127-bac8-c984f58c5eca",
   "metadata": {},
   "outputs": [
    {
     "name": "stdout",
     "output_type": "stream",
     "text": [
      "Enrollment Number : IEC2023081 \n"
     ]
    }
   ],
   "source": [
    "print (\"Enrollment Number : IEC2023081 \");"
   ]
  },
  {
   "cell_type": "code",
   "execution_count": null,
   "id": "4d2b2b5f-185b-45a7-bdf3-3e4a3e25585e",
   "metadata": {},
   "outputs": [],
   "source": []
  }
 ],
 "metadata": {
  "kernelspec": {
   "display_name": "Python 3 (ipykernel)",
   "language": "python",
   "name": "python3"
  },
  "language_info": {
   "codemirror_mode": {
    "name": "ipython",
    "version": 3
   },
   "file_extension": ".py",
   "mimetype": "text/x-python",
   "name": "python",
   "nbconvert_exporter": "python",
   "pygments_lexer": "ipython3",
   "version": "3.11.7"
  }
 },
 "nbformat": 4,
 "nbformat_minor": 5
}
