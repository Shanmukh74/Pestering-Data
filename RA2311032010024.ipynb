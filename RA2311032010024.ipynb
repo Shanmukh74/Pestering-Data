{
 "cells": [
  {
   "cell_type": "code",
   "execution_count": 1,
   "id": "1f419c7e",
   "metadata": {},
   "outputs": [
    {
     "name": "stdout",
     "output_type": "stream",
     "text": [
      "Peruri Srinivasa Sai Shanmukh\n"
     ]
    }
   ],
   "source": [
    "print(\"Peruri Srinivasa Sai Shanmukh\")"
   ]
  },
  {
   "cell_type": "code",
   "execution_count": 2,
   "id": "b0b86b46",
   "metadata": {},
   "outputs": [
    {
     "name": "stdout",
     "output_type": "stream",
     "text": [
      "RA2311032010024\n"
     ]
    }
   ],
   "source": [
    "print(\"RA2311032010024\")"
   ]
  }
 ],
 "metadata": {
  "kernelspec": {
   "display_name": "Python 3 (ipykernel)",
   "language": "python",
   "name": "python3"
  },
  "language_info": {
   "codemirror_mode": {
    "name": "ipython",
    "version": 3
   },
   "file_extension": ".py",
   "mimetype": "text/x-python",
   "name": "python",
   "nbconvert_exporter": "python",
   "pygments_lexer": "ipython3",
   "version": "3.11.5"
  }
 },
 "nbformat": 4,
 "nbformat_minor": 5
}
