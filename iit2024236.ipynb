{
 "cells": [
  {
   "cell_type": "markdown",
   "id": "28c527a4-2aad-4607-a1a1-f2eff3e42a83",
   "metadata": {},
   "source": [
    "# Jupyter Notebook"
   ]
  },
  {
   "cell_type": "code",
   "execution_count": 4,
   "id": "6be24542-9beb-4e1d-b1d9-d2ab554f607c",
   "metadata": {},
   "outputs": [
    {
     "name": "stdout",
     "output_type": "stream",
     "text": [
      "Arghya Shubhshiv\n"
     ]
    }
   ],
   "source": [
    "print(\"Arghya Shubhshiv\")"
   ]
  },
  {
   "cell_type": "code",
   "execution_count": 6,
   "id": "afc1f419-225b-4b9e-87f7-d2c5709ccd96",
   "metadata": {},
   "outputs": [
    {
     "name": "stdout",
     "output_type": "stream",
     "text": [
      "IIT2024236\n"
     ]
    }
   ],
   "source": [
    "print(\"IIT2024236\")"
   ]
  }
 ],
 "metadata": {
  "kernelspec": {
   "display_name": "Python 3 (ipykernel)",
   "language": "python",
   "name": "python3"
  },
  "language_info": {
   "codemirror_mode": {
    "name": "ipython",
    "version": 3
   },
   "file_extension": ".py",
   "mimetype": "text/x-python",
   "name": "python",
   "nbconvert_exporter": "python",
   "pygments_lexer": "ipython3",
   "version": "3.12.7"
  }
 },
 "nbformat": 4,
 "nbformat_minor": 5
}
